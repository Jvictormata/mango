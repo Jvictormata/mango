{
 "cells": [
  {
   "cell_type": "code",
   "execution_count": 4,
   "id": "5d2b1278",
   "metadata": {},
   "outputs": [],
   "source": [
    "import cv2\n",
    "import numpy as np\n",
    "import matplotlib.pyplot as plt\n",
    "import imutils\n"
   ]
  },
  {
   "cell_type": "code",
   "execution_count": 5,
   "id": "7870c02c",
   "metadata": {},
   "outputs": [],
   "source": [
    "cap = cv2.VideoCapture(1,cv2.CAP_DSHOW)\n",
    "#cap = cv2.VideoCapture(\"video_left_sliding_final.mp4\")\n",
    "#ret, frame = cap.read()\n",
    "\n",
    "\n",
    "def track_yellow(frame,colorLower,colorUpper):\n",
    "    blurred = cv2.GaussianBlur(frame, (11, 11), 0)\n",
    "    hsv = cv2.cvtColor(blurred, cv2.COLOR_BGR2HSV)\n",
    "\n",
    "    mask = cv2.inRange(hsv, colorLower, colorUpper)\n",
    "    mask = cv2.erode(mask, None, iterations=2)\n",
    "    mask = cv2.dilate(mask, None, iterations=2)\n",
    "\n",
    "    cnts = cv2.findContours(mask.copy(), cv2.RETR_EXTERNAL,cv2.CHAIN_APPROX_SIMPLE)\n",
    "    cnts = imutils.grab_contours(cnts)\n",
    "    \n",
    "    radius = 0\n",
    "    center = (0,0)\n",
    "\n",
    "    if len(cnts) > 0:\n",
    "        c = max(cnts, key=cv2.contourArea)\n",
    "        ((x, y), radius) = cv2.minEnclosingCircle(c)\n",
    "        M = cv2.moments(c)\n",
    "        center = (int(M[\"m10\"] / M[\"m00\"]), int(M[\"m01\"] / M[\"m00\"]))\n",
    "    if radius > 5:\n",
    "        cv2.circle(frame, (int(x), int(y)), int(radius),(0, 255, 255), 2)\n",
    "        cv2.circle(frame, center, 2, (0, 0, 255), -1)\n",
    "    \n",
    "    return frame\n",
    "\n",
    "\n",
    "\n",
    "def nothing(x):\n",
    "    pass\n",
    "\n",
    "cv2.namedWindow(\"Trackbars\")\n",
    "cv2.createTrackbar(\"Lower - H\",\"Trackbars\",0,179,nothing)\n",
    "cv2.createTrackbar(\"Lower - S\",\"Trackbars\",0,255,nothing)\n",
    "cv2.createTrackbar(\"Lower - V\",\"Trackbars\",0,255,nothing)\n",
    "cv2.createTrackbar(\"Upper - H\",\"Trackbars\",179,179,nothing)\n",
    "cv2.createTrackbar(\"Upper - S\",\"Trackbars\",255,255,nothing)\n",
    "cv2.createTrackbar(\"Upper - V\",\"Trackbars\",255,255,nothing)\n",
    "\n",
    "while True:\n",
    "    ret, frame = cap.read()\n",
    "    hsv = cv2.cvtColor(frame,cv2.COLOR_BGR2HSV)\n",
    "    \n",
    "    l_h = cv2.getTrackbarPos(\"Lower - H\",\"Trackbars\")\n",
    "    l_s = cv2.getTrackbarPos(\"Lower - S\",\"Trackbars\")\n",
    "    l_v = cv2.getTrackbarPos(\"Lower - V\",\"Trackbars\")\n",
    "    u_h = cv2.getTrackbarPos(\"Upper - H\",\"Trackbars\")\n",
    "    u_s = cv2.getTrackbarPos(\"Upper - S\",\"Trackbars\")\n",
    "    u_v = cv2.getTrackbarPos(\"Upper - V\",\"Trackbars\")\n",
    "    \n",
    "    lowerColor = np.array([l_h, l_s, l_v])\n",
    "    upperColor = np.array([u_h, u_s, u_v])\n",
    "    \n",
    "    mask = cv2.inRange(hsv, lowerColor, upperColor)\n",
    "    mask = cv2.erode(mask, None, iterations=2)\n",
    "    mask = cv2.dilate(mask, None, iterations=2)\n",
    "    \n",
    "    result = cv2.bitwise_and(frame,frame,mask=mask)\n",
    "    #result = track_yellow(frame,lowerColor,upperColor)\n",
    "    \n",
    "    cv2.imshow(\"frame\",frame)\n",
    "    cv2.imshow(\"mask\",mask)\n",
    "    cv2.imshow(\"result\",result)\n",
    "    \n",
    "    key = cv2.waitKey(1) & 0xFF\n",
    "    if key == ord(\"q\"):\n",
    "        break \n",
    "cap.release()\n",
    "cv2.destroyAllWindows()"
   ]
  },
  {
   "cell_type": "code",
   "execution_count": 9,
   "id": "cfc1d3c5",
   "metadata": {},
   "outputs": [],
   "source": [
    "cap.release()\n",
    "cv2.destroyAllWindows()"
   ]
  },
  {
   "cell_type": "code",
   "execution_count": null,
   "id": "a590b6a9",
   "metadata": {},
   "outputs": [],
   "source": []
  }
 ],
 "metadata": {
  "kernelspec": {
   "display_name": "Python 3",
   "language": "python",
   "name": "python3"
  },
  "language_info": {
   "codemirror_mode": {
    "name": "ipython",
    "version": 3
   },
   "file_extension": ".py",
   "mimetype": "text/x-python",
   "name": "python",
   "nbconvert_exporter": "python",
   "pygments_lexer": "ipython3",
   "version": "3.8.8"
  }
 },
 "nbformat": 4,
 "nbformat_minor": 5
}
