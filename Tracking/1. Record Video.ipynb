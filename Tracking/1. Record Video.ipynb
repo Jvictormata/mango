{
 "cells": [
  {
   "cell_type": "code",
   "execution_count": null,
   "id": "6e775c2f",
   "metadata": {},
   "outputs": [],
   "source": [
    "import cv2\n",
    "import numpy as np\n",
    "import time\n",
    "import matplotlib.pyplot as plt\n",
    "import pandas as pd"
   ]
  },
  {
   "cell_type": "code",
   "execution_count": null,
   "id": "54579f21",
   "metadata": {},
   "outputs": [],
   "source": [
    "##### Capturing image with webcam and saving into a file\n",
    "\n",
    "cap_right = cv2.VideoCapture(1,cv2.CAP_DSHOW)                    \n",
    "cap_left =  cv2.VideoCapture(0,cv2.CAP_DSHOW)\n",
    "\n",
    "width = int(cap_right.get(cv2.CAP_PROP_FRAME_WIDTH))\n",
    "height = int(cap_right.get(cv2.CAP_PROP_FRAME_HEIGHT))\n",
    "\n",
    "writer_left = cv2.VideoWriter(\"video_left.mp4\",cv2.VideoWriter_fourcc(*'DIVX'),20,(width,height))\n",
    "writer_right = cv2.VideoWriter(\"video_right.mp4\",cv2.VideoWriter_fourcc(*'DIVX'),20,(width,height))\n",
    "\n",
    "start_time = time.time()\n",
    "time_vector = []\n",
    "\n",
    "\n",
    "while True:\n",
    "    ret, frame_right = cap_right.read()\n",
    "    ret, frame_left = cap_left.read()    \n",
    "    \n",
    "    writer_left.write(frame_left)\n",
    "    writer_right.write(frame_right)\n",
    "    time_vector.append(time.time())\n",
    "\n",
    "    \n",
    "    cv2.imshow(\"Frame left\", frame_left)\n",
    "    cv2.imshow(\"Frame right\", frame_right) \n",
    "    if cv2.waitKey(1) & 0xFF == 27:\n",
    "        break\n",
    "        \n",
    "cap_right.release()\n",
    "cap_left.release()\n",
    "writer_left.release()\n",
    "writer_right.release()\n",
    "cv2.destroyAllWindows()\n",
    "np.save('time_vector.npy', time_vector)"
   ]
  },
  {
   "cell_type": "code",
   "execution_count": null,
   "id": "a8b4d14a",
   "metadata": {},
   "outputs": [],
   "source": [
    "import time\n",
    "\n",
    "cap = cv2.VideoCapture(\"video_right.mp4\")\n",
    "if cap.isOpened() == False:\n",
    "    print(\"File not found or wrong codec used!\")\n",
    "    \n",
    "\n",
    "while cap.isOpened():\n",
    "    ret,frame = cap.read()    \n",
    "    \n",
    "    if ret == True:\n",
    "        #AS THE WRITER WAS WITH 20 FPS:\n",
    "        time.sleep(1/200)\n",
    "        cv2.imshow(\"frame\",frame)   \n",
    "        \n",
    "        if cv2.waitKey(10) & 0xFF == 27:\n",
    "            break\n",
    "    else:\n",
    "        break\n",
    "\n",
    "cap.release()\n",
    "cv2.destroyAllWindows()"
   ]
  }
 ],
 "metadata": {
  "kernelspec": {
   "display_name": "Python 3",
   "language": "python",
   "name": "python3"
  },
  "language_info": {
   "codemirror_mode": {
    "name": "ipython",
    "version": 3
   },
   "file_extension": ".py",
   "mimetype": "text/x-python",
   "name": "python",
   "nbconvert_exporter": "python",
   "pygments_lexer": "ipython3",
   "version": "3.8.8"
  }
 },
 "nbformat": 4,
 "nbformat_minor": 5
}
