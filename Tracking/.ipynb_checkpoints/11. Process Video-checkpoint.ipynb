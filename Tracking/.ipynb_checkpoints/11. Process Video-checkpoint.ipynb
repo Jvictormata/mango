{
 "cells": [
  {
   "cell_type": "code",
   "execution_count": 2,
   "id": "e8fb55ac",
   "metadata": {},
   "outputs": [],
   "source": [
    "import cv2\n",
    "import numpy as np\n",
    "import time\n",
    "import matplotlib.pyplot as plt\n",
    "import pandas as pd"
   ]
  },
  {
   "cell_type": "code",
   "execution_count": 3,
   "id": "e503a3f8",
   "metadata": {},
   "outputs": [],
   "source": [
    "# Load Aruco detector\n",
    "parameters = cv2.aruco.DetectorParameters_create()\n",
    "aruco_dict = cv2.aruco.Dictionary_get(cv2.aruco.DICT_5X5_50)\n",
    "\n",
    "cameraMatrixR = np.load('cameraMatrixR.npy')\n",
    "cameraMatrixL = np.load('cameraMatrixL.npy', )\n",
    "inv_cameraMatrixL = np.linalg.inv(cameraMatrixL)\n",
    "inv_cameraMatrixR = np.linalg.inv(cameraMatrixR)\n",
    "\n",
    "\n",
    "rot = np.load('rot.npy')\n",
    "trans = np.load('trans.npy')\n",
    "distL = np.load('distL.npy')\n",
    "distR = np.load('distR.npy')\n",
    "\n",
    "trans_calib = np.load('trans_calib.npy')\n",
    "Rot_calib = np.load('Rot_calib.npy')"
   ]
  },
  {
   "cell_type": "code",
   "execution_count": 20,
   "id": "8345413f",
   "metadata": {},
   "outputs": [],
   "source": [
    "## Defining Color\n",
    "\n",
    "colorLower = (75,57,61)\n",
    "colorUpper = (90,255,255)\n",
    "\n",
    "####\n",
    "\n",
    "purpleLower = (166, 33, 29)\n",
    "purpleUpper = (180, 255, 255)\n",
    "\n",
    "blueLower = (91, 75, 75)\n",
    "blueUpper = (108, 255, 255)\n",
    "blueLower_left = (91, 61, 90)\n",
    "blueUpper_left = (108, 255, 255)\n",
    "\n",
    "redLower = (0,116,90)\n",
    "redUpper = (15,255,255)\n",
    "redLower_left = (0,95,76)\n",
    "redUpper_left = (15,255,255)\n",
    "\n",
    "\n",
    "greenLower = (68,61,75)\n",
    "greenUpper = (96,255,255)\n",
    "\n",
    "greenLower_left = (56,54,75)\n",
    "greenUpper_left = (96,255,255)\n",
    "\n",
    "orbes = [[purpleLower,purpleUpper],[blueLower,blueUpper],[redLower,redUpper],[greenLower,greenUpper]];"
   ]
  },
  {
   "cell_type": "code",
   "execution_count": 24,
   "id": "6082a8c4",
   "metadata": {},
   "outputs": [],
   "source": [
    "import imutils\n",
    "    \n",
    "def triangulation(p_1,p_2,inv_k_1,inv_k_2,Rot,trans):\n",
    "    p1 = inv_k_1@p_1\n",
    "    p2 = inv_k_2@p_2\n",
    "    lamb = np.linalg.pinv(np.concatenate((p1,-Rot@p2),1))@trans\n",
    "    return lamb[0,0]*p1\n",
    "\n",
    "\n",
    "def track_yellow(frame,colorLower,colorUpper):\n",
    "    blurred = cv2.GaussianBlur(frame, (11, 11), 0)\n",
    "    hsv = cv2.cvtColor(blurred, cv2.COLOR_BGR2HSV)\n",
    "\n",
    "    mask = cv2.inRange(hsv, colorLower, colorUpper)\n",
    "    mask = cv2.erode(mask, None, iterations=2)\n",
    "    mask = cv2.dilate(mask, None, iterations=2)\n",
    "\n",
    "    cnts = cv2.findContours(mask.copy(), cv2.RETR_EXTERNAL,cv2.CHAIN_APPROX_SIMPLE)\n",
    "    cnts = imutils.grab_contours(cnts)\n",
    "    \n",
    "    radius = 0\n",
    "    center = (0,0)\n",
    "\n",
    "    if len(cnts) > 0:\n",
    "        c = max(cnts, key=cv2.contourArea)\n",
    "        ((x, y), radius) = cv2.minEnclosingCircle(c)\n",
    "        M = cv2.moments(c)\n",
    "        center = (int(M[\"m10\"] / M[\"m00\"]), int(M[\"m01\"] / M[\"m00\"]))\n",
    "    if radius > 5:\n",
    "        cv2.circle(frame, (int(x), int(y)), int(radius),(0, 255, 255), 2)\n",
    "        cv2.circle(frame, center, 5, (0, 0, 255), -1)\n",
    "    else:\n",
    "        center = (0,0)\n",
    "    \n",
    "    return center,frame"
   ]
  },
  {
   "cell_type": "code",
   "execution_count": 21,
   "id": "bec9ecc2",
   "metadata": {},
   "outputs": [],
   "source": [
    "time_vector = np.load('time_vector_sliding_final.npy')"
   ]
  },
  {
   "cell_type": "markdown",
   "id": "a00b8f88",
   "metadata": {},
   "source": [
    "# Generate data - 3 orbs"
   ]
  },
  {
   "cell_type": "code",
   "execution_count": null,
   "id": "8bd96ae0",
   "metadata": {},
   "outputs": [],
   "source": [
    "cap_right = cv2.VideoCapture(\"video_right.mp4\")                    \n",
    "cap_left =  cv2.VideoCapture(\"video_left.mp4\")\n",
    "\n",
    "pos_target = []\n",
    "time_without = []\n",
    "\n",
    "centers_right = []\n",
    "centers_left = []\n",
    "\n",
    "iteration = 0;\n",
    "while cap_right.isOpened() and cap_left.isOpened():\n",
    "    ret_right, frame_right = cap_right.read()\n",
    "    ret_left, frame_left = cap_left.read()\n",
    "    \n",
    "    temp_left = []\n",
    "    temp_right = []\n",
    "    \n",
    "    if not ret_right and not ret_left:    \n",
    "        break\n",
    "        \n",
    "    center_left_target,frame_left_target = track_yellow(frame_left,greenLower_left,greenUpper_left)\n",
    "    center_right_target,frame_right_target = track_yellow(frame_right,greenLower,greenUpper)\n",
    "    #print(center_right_target)\n",
    "    if not center_left_target == (0,0) and not center_right_target == (0,0):\n",
    "        xyz_1 = triangulation(np.array([[center_right_target[0]],[center_right_target[1]],[1]]),np.array([[center_left_target[0]],[center_left_target[1]],[1]]),inv_cameraMatrixR,inv_cameraMatrixL,rot,trans)    \n",
    "    else:\n",
    "        xyz_1 = np.array([[0],[0],[0]])\n",
    "        \n",
    "    temp_left.append(center_left_target)\n",
    "    temp_right.append(center_right_target)   \n",
    "        \n",
    "    center_left_target,frame_left_target = track_yellow(frame_left_target,redLower_left,redUpper_left)\n",
    "    center_right_target,frame_right_target = track_yellow(frame_right_target,redLower,redUpper)        \n",
    "    if not center_left_target == (0,0) and not center_right_target == (0,0):\n",
    "        xyz_3 = triangulation(np.array([[center_right_target[0]],[center_right_target[1]],[1]]),np.array([[center_left_target[0]],[center_left_target[1]],[1]]),inv_cameraMatrixR,inv_cameraMatrixL,rot,trans)    \n",
    "    else:\n",
    "        xyz_3 = np.array([[0],[0],[0]])\n",
    "    temp_left.append(center_left_target)\n",
    "    temp_right.append(center_right_target)\n",
    "        \n",
    "        \n",
    "    center_left_target,frame_left_target = track_yellow(frame_left_target,blueLower_left,blueUpper_left)\n",
    "    center_right_target,frame_right_target = track_yellow(frame_right_target,blueLower,blueUpper)        \n",
    "    if not center_left_target == (0,0) and not center_right_target == (0,0):\n",
    "        xyz_4 = triangulation(np.array([[center_right_target[0]],[center_right_target[1]],[1]]),np.array([[center_left_target[0]],[center_left_target[1]],[1]]),inv_cameraMatrixR,inv_cameraMatrixL,rot,trans)    \n",
    "    else:\n",
    "        xyz_4 = np.array([[0],[0],[0]])\n",
    "    temp_left.append(center_left_target)\n",
    "    temp_right.append(center_right_target)\n",
    "        \n",
    "    \n",
    "    if xyz_1[2]>0 and xyz_3[2]>0 and xyz_4[2]>0:\n",
    "                \n",
    "        xyz = xyz_1\n",
    "        pos_target.append(xyz)\n",
    "                      \n",
    "        centers_right.append(temp_right)\n",
    "        centers_left.append(temp_left)\n",
    "        time_without.append(time_vector[iteration])\n",
    "        cv2.putText(frame_right_target,text='X = '+str(xyz[0]),org=(10,100),fontFace=cv2.FONT_HERSHEY_SIMPLEX,fontScale=3,color=(255,255,255),thickness=3,lineType=cv2.LINE_AA)\n",
    "        cv2.putText(frame_right_target,text='Y = '+str(xyz[1]),org=(10,200),fontFace=cv2.FONT_HERSHEY_SIMPLEX,fontScale=3,color=(255,255,255),thickness=3,lineType=cv2.LINE_AA)\n",
    "        cv2.putText(frame_right_target,text='z = '+str(xyz[2]),org=(10,300),fontFace=cv2.FONT_HERSHEY_SIMPLEX,fontScale=3,color=(255,255,255),thickness=3,lineType=cv2.LINE_AA)\n",
    "\n",
    "        \n",
    "    cv2.imshow(\"Frame left\", frame_left_target)\n",
    "    cv2.imshow(\"Frame right\", frame_right_target) \n",
    "\n",
    "    iteration += 1\n",
    "\n",
    "    key = cv2.waitKey(1) & 0xFF\n",
    "    if key == ord(\"q\"):\n",
    "        break    \n",
    "\n",
    "cap_right.release()\n",
    "cap_left.release()\n",
    "cv2.destroyAllWindows()\n",
    "time_without = np.array(time_without)\n",
    "time_centers = time_without\n",
    "\n",
    "np.save(\"time_centers_final.npy\",time_centers)\n",
    "\n",
    "\n",
    "centers_right = np.array(centers_right)\n",
    "centers_left = np.array(centers_left)\n",
    "np.save(\"centers_right_final.npy\",centers_right)\n",
    "np.save(\"centers_left_final.npy\",centers_left)"
   ]
  },
  {
   "cell_type": "code",
   "execution_count": 35,
   "id": "d6990b8e",
   "metadata": {},
   "outputs": [],
   "source": [
    "cap_right.release()\n",
    "cap_left.release()\n",
    "cv2.destroyAllWindows()"
   ]
  },
  {
   "cell_type": "code",
   "execution_count": 23,
   "id": "58bdbc05",
   "metadata": {},
   "outputs": [
    {
     "data": {
      "text/plain": [
       "Text(0, 0.5, 'Z position (mm)')"
      ]
     },
     "execution_count": 23,
     "metadata": {},
     "output_type": "execute_result"
    },
    {
     "data": {
      "image/png": "[encoded data removed]",
      "text/plain": [
       "<Figure size 1152x288 with 3 Axes>"
      ]
     },
     "metadata": {
      "needs_background": "light"
     },
     "output_type": "display_data"
    }
   ],
   "source": [
    "pos_target = np.array(pos_target)\n",
    "\n",
    "plt.figure(figsize=(16, 4))\n",
    "\n",
    "plt.subplot(1, 3, 1)\n",
    "plt.plot(time_without,pos_target[:,0])\n",
    "plt.legend([\"x offset\"],loc=\"upper right\")\n",
    "plt.xlabel(\"Data sample\")\n",
    "plt.ylabel(\"X position (mm)\")\n",
    "\n",
    "plt.subplot(1, 3, 2)\n",
    "plt.plot(time_without,pos_target[:,1])\n",
    "plt.legend([\"Y offset\"],loc=\"upper right\")\n",
    "plt.xlabel(\"Data sample\")\n",
    "plt.ylabel(\"Y position (mm)\")\n",
    "\n",
    "plt.subplot(1, 3, 3)\n",
    "plt.plot(time_without,pos_target[:,2])\n",
    "plt.legend([\"z offset\"],loc=\"upper right\")\n",
    "plt.xlabel(\"Data sample\")\n",
    "plt.ylabel(\"Z position (mm)\")"
   ]
  },
  {
   "cell_type": "code",
   "execution_count": null,
   "id": "14d88b70",
   "metadata": {},
   "outputs": [],
   "source": []
  }
 ],
 "metadata": {
  "kernelspec": {
   "display_name": "Python 3",
   "language": "python",
   "name": "python3"
  },
  "language_info": {
   "codemirror_mode": {
    "name": "ipython",
    "version": 3
   },
   "file_extension": ".py",
   "mimetype": "text/x-python",
   "name": "python",
   "nbconvert_exporter": "python",
   "pygments_lexer": "ipython3",
   "version": "3.8.8"
  }
 },
 "nbformat": 4,
 "nbformat_minor": 5
}
