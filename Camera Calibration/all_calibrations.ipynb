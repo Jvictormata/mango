{
 "cells": [
  {
   "cell_type": "markdown",
   "id": "1f60d8c1",
   "metadata": {},
   "source": [
    "# Take pictures"
   ]
  },
  {
   "cell_type": "code",
   "execution_count": 6,
   "id": "f4b9f334",
   "metadata": {},
   "outputs": [],
   "source": [
    "import cv2\n",
    "\n",
    "\n",
    "cap_left = cv2.VideoCapture(1,cv2.CAP_DSHOW)\n",
    "cap_right = cv2.VideoCapture(0,cv2.CAP_DSHOW)\n",
    "\n",
    "\n",
    "num = 0\n",
    "\n",
    "\n",
    "while cap_left.isOpened():\n",
    "\n",
    "    succes1, img_left = cap_left.read()\n",
    "    succes2, img_right = cap_right.read()\n",
    "\n",
    "\n",
    "    k = cv2.waitKey(5)\n",
    "\n",
    "    if k == 27:\n",
    "        break\n",
    "    elif k == ord('s'): # wait for 's' key to save and exit\n",
    "        cv2.imwrite('images/stereoLeft/imageL' + str(num) + '.png', img_left)\n",
    "        cv2.imwrite('images/stereoRight/imageR' + str(num) + '.png', img_right)\n",
    "        print(\"images saved!\")\n",
    "        num += 1\n",
    "\n",
    "    cv2.imshow('Camera Left',img_left)\n",
    "    cv2.imshow('Camera Right',img_right)\n",
    "    \n",
    "cap_left.release()\n",
    "cap_right.release()\n",
    "cv2.destroyAllWindows()\n"
   ]
  },
  {
   "cell_type": "code",
   "execution_count": 5,
   "id": "c81d0b80",
   "metadata": {},
   "outputs": [],
   "source": [
    "cap_left.release()\n",
    "cap_right.release()\n",
    "cv2.destroyAllWindows()"
   ]
  },
  {
   "cell_type": "markdown",
   "id": "34138196",
   "metadata": {},
   "source": [
    "# Calibrate"
   ]
  },
  {
   "cell_type": "code",
   "execution_count": 16,
   "id": "8d7094a2",
   "metadata": {},
   "outputs": [
    {
     "name": "stdout",
     "output_type": "stream",
     "text": [
      "total error RIGHT: 0.015010832901206125\n",
      "total error LEFT: 0.014473227647724966\n"
     ]
    }
   ],
   "source": [
    "import numpy as np\n",
    "import cv2 as cv\n",
    "import glob\n",
    "\n",
    "\n",
    "\n",
    "################ FIND CHESSBOARD CORNERS - OBJECT POINTS AND IMAGE POINTS #############################\n",
    "\n",
    "chessboardSize = (9,6)\n",
    "frameSize = (640,480)\n",
    "\n",
    "\n",
    "\n",
    "# termination criteria\n",
    "criteria = (cv.TERM_CRITERIA_EPS + cv.TERM_CRITERIA_MAX_ITER, 30, 0.001)\n",
    "\n",
    "\n",
    "# prepare object points, like (0,0,0), (1,0,0), (2,0,0) ....,(6,5,0)\n",
    "objp = np.zeros((chessboardSize[0] * chessboardSize[1], 3), np.float32)\n",
    "objp[:,:2] = np.mgrid[0:chessboardSize[0],0:chessboardSize[1]].T.reshape(-1,2)\n",
    "objp = objp*23\n",
    "\n",
    "# Arrays to store object points and image points from all the images.\n",
    "objpoints = [] # 3d point in real world space\n",
    "imgpointsL = [] # 2d points in image plane.\n",
    "imgpointsR = [] # 2d points in image plane.\n",
    "\n",
    "\n",
    "imagesLeft = glob.glob('images/stereoLeft/*.png')\n",
    "imagesRight = glob.glob('images/stereoRight/*.png')\n",
    "\n",
    "for imgLeft, imgRight in zip(imagesLeft, imagesRight):\n",
    "\n",
    "    imgL = cv.imread(imgLeft)\n",
    "    imgR = cv.imread(imgRight)\n",
    "    grayL = cv.cvtColor(imgL, cv.COLOR_BGR2GRAY)\n",
    "    grayR = cv.cvtColor(imgR, cv.COLOR_BGR2GRAY)\n",
    "\n",
    "    # Find the chess board corners\n",
    "    retL, cornersL = cv.findChessboardCorners(grayL, chessboardSize, None)\n",
    "    retR, cornersR = cv.findChessboardCorners(grayR, chessboardSize, None)\n",
    "\n",
    "    # If found, add object points, image points (after refining them)\n",
    "    if retL and retR == True:\n",
    "\n",
    "        objpoints.append(objp)\n",
    "\n",
    "        cornersL = cv.cornerSubPix(grayL, cornersL, (11,11), (-1,-1), criteria)\n",
    "        imgpointsL.append(cornersL)\n",
    "\n",
    "        cornersR = cv.cornerSubPix(grayR, cornersR, (11,11), (-1,-1), criteria)\n",
    "        imgpointsR.append(cornersR)\n",
    "\n",
    "        # Draw and display the corners\n",
    "        cv.drawChessboardCorners(imgL, chessboardSize, cornersL, retL)\n",
    "        cv.imshow('img left', imgL)\n",
    "        cv.drawChessboardCorners(imgR, chessboardSize, cornersR, retR)\n",
    "        cv.imshow('img right', imgR)\n",
    "        cv.waitKey(1000)\n",
    "\n",
    "\n",
    "cv.destroyAllWindows()\n",
    "\n",
    "\n",
    "\n",
    "\n",
    "############## CALIBRATION #######################################################\n",
    "\n",
    "retL, cameraMatrixL, distL, rvecsL, tvecsL = cv.calibrateCamera(objpoints, imgpointsL, frameSize, None, None)\n",
    "heightL, widthL, channelsL = imgL.shape\n",
    "newCameraMatrixL, roi_L = cv.getOptimalNewCameraMatrix(cameraMatrixL, distL, (widthL, heightL), 1, (widthL, heightL))\n",
    "\n",
    "retR, cameraMatrixR, distR, rvecsR, tvecsR = cv.calibrateCamera(objpoints, imgpointsR, frameSize, None, None)\n",
    "heightR, widthR, channelsR = imgR.shape\n",
    "newCameraMatrixR, roi_R = cv.getOptimalNewCameraMatrix(cameraMatrixR, distR, (widthR, heightR), 1, (widthR, heightR))\n",
    "\n",
    "\n",
    "\n",
    "########## Stereo Vision Calibration #############################################\n",
    "\n",
    "flags = 0\n",
    "flags |= cv.CALIB_FIX_INTRINSIC\n",
    "# Here we fix the intrinsic camara matrixes so that only Rot, Trns, Emat and Fmat are calculated.\n",
    "# Hence intrinsic parameters are the same \n",
    "\n",
    "criteria_stereo= (cv.TERM_CRITERIA_EPS + cv.TERM_CRITERIA_MAX_ITER, 30, 0.001)\n",
    "\n",
    "# This step is performed to transformation between the two cameras and calculate Essential and Fundamenatl matrix\n",
    "#retStereo, newCameraMatrixL, distL, newCameraMatrixR, distR, rot, trans, essentialMatrix, fundamentalMatrix = cv.stereoCalibrate(objpoints, imgpointsL, imgpointsR, newCameraMatrixL, distL, newCameraMatrixR, distR, grayL.shape[::-1], criteria_stereo, flags)\n",
    "retStereo, newCameraMatrixL, distL, newCameraMatrixR, distR, rot, trans, essentialMatrix, fundamentalMatrix = cv.stereoCalibrate(objpoints, imgpointsL, imgpointsR, cameraMatrixL, distL, cameraMatrixR, distR, grayL.shape[::-1], criteria_stereo, flags)\n",
    "###### OBS: rot and trans are from camera left to camera right, Tright_left, so the final frame is the right frame\n",
    "\n",
    "\n",
    "#print(newCameraMatrixL)\n",
    "#print(newCameraMatrixR)\n",
    "\n",
    "\n",
    "################################### SAVING ALL ###############################\n",
    "np.save('cameraMatrixR.npy', cameraMatrixR)\n",
    "np.save('cameraMatrixL.npy', cameraMatrixL)\n",
    "np.save('rot.npy', rot)\n",
    "np.save('trans.npy', trans)\n",
    "np.save('distL.npy', distL)\n",
    "np.save('distR.npy', distR)\n",
    "\n",
    "\n",
    "################################### CALCULING THE ERROR ###############################\n",
    "mean_errorR = 0\n",
    "mean_errorL = 0\n",
    "\n",
    "for i in range(len(objpoints)):\n",
    "    imgpoints2R, _ = cv.projectPoints(objpoints[i], rvecsR[i], tvecsR[i], cameraMatrixR, distR)\n",
    "    errorR = cv.norm(imgpointsR[i], imgpoints2R, cv.NORM_L2)/len(imgpoints2R)\n",
    "    \n",
    "    imgpoints2L, _ = cv.projectPoints(objpoints[i], rvecsL[i], tvecsL[i], cameraMatrixL, distL)\n",
    "    errorL = cv.norm(imgpointsL[i], imgpoints2L, cv.NORM_L2)/len(imgpoints2L)\n",
    "    \n",
    "    mean_errorR += errorR\n",
    "    mean_errorL += errorL\n",
    "print( \"total error RIGHT: {}\".format(mean_errorR/len(objpoints)) )\n",
    "print( \"total error LEFT: {}\".format(mean_errorL/len(objpoints)) )\n"
   ]
  },
  {
   "cell_type": "markdown",
   "id": "97523356",
   "metadata": {},
   "source": [
    "# Checking the calibration"
   ]
  },
  {
   "cell_type": "code",
   "execution_count": 17,
   "id": "c3d3c351",
   "metadata": {},
   "outputs": [],
   "source": [
    "import numpy as np\n",
    "\n",
    "def triangulation(p_1,p_2,inv_k_1,inv_k_2,Rot,trans):\n",
    "    p1 = inv_k_1@p_1\n",
    "    p2 = inv_k_2@p_2\n",
    "    lamb = np.linalg.pinv(np.concatenate((p1,-Rot@p2),1))@trans\n",
    "    return lamb[0,0]*p1\n",
    "\n",
    "\n",
    "\n",
    "\n",
    "def track_yellow(frame,colorLower,colorUpper):\n",
    "    blurred = cv2.GaussianBlur(frame, (11, 11), 0)\n",
    "    hsv = cv2.cvtColor(blurred, cv2.COLOR_BGR2HSV)\n",
    "\n",
    "    mask = cv2.inRange(hsv, colorLower, colorUpper)\n",
    "    mask = cv2.erode(mask, None, iterations=2)\n",
    "    mask = cv2.dilate(mask, None, iterations=2)\n",
    "\n",
    "    cnts = cv2.findContours(mask.copy(), cv2.RETR_EXTERNAL,cv2.CHAIN_APPROX_SIMPLE)\n",
    "    cnts = imutils.grab_contours(cnts)\n",
    "    \n",
    "    radius = 0\n",
    "    center = (0,0)\n",
    "\n",
    "    if len(cnts) > 0:\n",
    "        c = max(cnts, key=cv2.contourArea)\n",
    "        ((x, y), radius) = cv2.minEnclosingCircle(c)\n",
    "        M = cv2.moments(c)\n",
    "        center = (int(M[\"m10\"] / M[\"m00\"]), int(M[\"m01\"] / M[\"m00\"]))\n",
    "    if radius > 10:\n",
    "        cv2.circle(frame, (int(x), int(y)), int(radius),(0, 255, 255), 2)\n",
    "        cv2.circle(frame, center, 5, (0, 0, 255), -1)\n",
    "    \n",
    "    return center,frame\n",
    "\n",
    "\n",
    "\n",
    "\n",
    "def draw_trajectory(frame,pts):\n",
    "    for i in range(1, len(pts)):\n",
    "        if pts[i - 1] is None or pts[i] is None or pts[i] == (0,0) or pts[i - 1] == (0,0):\n",
    "            continue\n",
    "        cv2.line(frame, pts[i - 1], pts[i], (0, 0, 255), 5)\n",
    "    return frame\n"
   ]
  },
  {
   "cell_type": "code",
   "execution_count": 24,
   "id": "ac75c8f6",
   "metadata": {},
   "outputs": [],
   "source": [
    "import imutils\n",
    "\n",
    "cap_right = cv2.VideoCapture(0,cv2.CAP_DSHOW)                    \n",
    "cap_left =  cv2.VideoCapture(1,cv2.CAP_DSHOW)\n",
    "\n",
    "cap_right.set(cv2.CAP_PROP_EXPOSURE, -6)\n",
    "cap_left.set(cv2.CAP_PROP_EXPOSURE, -6)\n",
    "\n",
    "\n",
    "pts_left = []\n",
    "pts_right = []\n",
    "\n",
    "colorLower_right = (22, 141, 106)\n",
    "colorUpper_right = (30, 255, 255)\n",
    "\n",
    "colorLower_left = (27, 116, 69)\n",
    "colorUpper_left = (35, 255, 255)\n",
    "\n",
    "\n",
    "\n",
    "while True:\n",
    "    ret, frame_right = cap_right.read()\n",
    "    ret, frame_left = cap_left.read()\n",
    "    \n",
    "    \n",
    "    #frame_left = cv2.undistort(frame_left, cameraMatrixL, distL, None, newCameraMatrixL)\n",
    "    #frame_right = cv2.undistort(frame_right, cameraMatrixR, distR, None, newCameraMatrixR)\n",
    "    #x, y, w, h = roi_L\n",
    "    #frame_left = frame_left[y:y+h, x:x+w]\n",
    "    #x, y, w, h = roi_R\n",
    "    #frame_right = frame_right[y:y+h, x:x+w] \n",
    "    \n",
    "    \n",
    "    center_left,frame_left = track_yellow(frame_left,colorLower_left,colorUpper_left)\n",
    "    center_right,frame_right = track_yellow(frame_right,colorLower_right,colorUpper_right)\n",
    "\n",
    "    pts_left.append(center_left)\n",
    "    pts_right.append(center_right)\n",
    "    \n",
    "    #frame_left = draw_trajectory(frame_left,pts_left)\n",
    "    #frame_right = draw_trajectory(frame_right,pts_right)\n",
    "    \n",
    "    #xyz = triangulation(np.array([[center_right[0]],[center_right[1]],[1]]),np.array([[center_left[0]],[center_left[1]],[1]]),np.linalg.inv(newCameraMatrixR),np.linalg.inv(newCameraMatrixL),rot,trans)    \n",
    "    xyz = triangulation(np.array([[center_right[0]],[center_right[1]],[1]]),np.array([[center_left[0]],[center_left[1]],[1]]),np.linalg.inv(cameraMatrixR),np.linalg.inv(cameraMatrixL),rot,trans)    \n",
    "    cv2.putText(frame_right,text='X = '+str(xyz[0]),org=(10,100),fontFace=cv2.FONT_HERSHEY_SIMPLEX,fontScale=3,color=(255,255,255),thickness=3,lineType=cv2.LINE_AA)\n",
    "    cv2.putText(frame_right,text='Y = '+str(xyz[1]),org=(10,200),fontFace=cv2.FONT_HERSHEY_SIMPLEX,fontScale=3,color=(255,255,255),thickness=3,lineType=cv2.LINE_AA)\n",
    "    cv2.putText(frame_right,text='z = '+str(xyz[2]),org=(10,300),fontFace=cv2.FONT_HERSHEY_SIMPLEX,fontScale=3,color=(255,255,255),thickness=3,lineType=cv2.LINE_AA)\n",
    "\n",
    "        \n",
    "    cv2.imshow(\"Frame left\", frame_left)\n",
    "    cv2.imshow(\"Frame right\", frame_right)\n",
    "    \n",
    "    \n",
    "\n",
    "    \n",
    "    key = cv2.waitKey(1) & 0xFF\n",
    "    if key == ord(\"q\"):\n",
    "        break    \n",
    "\n",
    "cap_right.release()\n",
    "cap_left.release()\n",
    "cv2.destroyAllWindows()"
   ]
  },
  {
   "cell_type": "code",
   "execution_count": 23,
   "id": "c49009a7",
   "metadata": {},
   "outputs": [],
   "source": [
    "cap_right.release()\n",
    "cap_left.release()\n",
    "cv2.destroyAllWindows()"
   ]
  },
  {
   "cell_type": "code",
   "execution_count": 12,
   "id": "be842387",
   "metadata": {},
   "outputs": [
    {
     "data": {
      "text/plain": [
       "array([[688.37747806,   0.        , 350.61857173],\n",
       "       [  0.        , 695.37834373, 252.95590113],\n",
       "       [  0.        ,   0.        ,   1.        ]])"
      ]
     },
     "execution_count": 12,
     "metadata": {},
     "output_type": "execute_result"
    }
   ],
   "source": [
    "cameraMatrixR"
   ]
  },
  {
   "cell_type": "code",
   "execution_count": 7,
   "id": "d7c050e4",
   "metadata": {
    "scrolled": true
   },
   "outputs": [
    {
     "data": {
      "text/plain": [
       "array([[691.38232726,   0.        , 343.48642014],\n",
       "       [  0.        , 696.34584502, 244.08655323],\n",
       "       [  0.        ,   0.        ,   1.        ]])"
      ]
     },
     "execution_count": 7,
     "metadata": {},
     "output_type": "execute_result"
    }
   ],
   "source": [
    "cameraMatrixL"
   ]
  },
  {
   "cell_type": "code",
   "execution_count": 5,
   "id": "7f85f03b",
   "metadata": {},
   "outputs": [
    {
     "data": {
      "text/plain": [
       "array([[ 0.9455398 ,  0.08450312,  0.31434649],\n",
       "       [-0.16010466,  0.96155752,  0.22310007],\n",
       "       [-0.28340958, -0.26127833,  0.92272024]])"
      ]
     },
     "execution_count": 5,
     "metadata": {},
     "output_type": "execute_result"
    }
   ],
   "source": [
    "rot"
   ]
  },
  {
   "cell_type": "code",
   "execution_count": 6,
   "id": "414a4bd8",
   "metadata": {},
   "outputs": [
    {
     "data": {
      "text/plain": [
       "array([[-365.14317637],\n",
       "       [-287.46720512],\n",
       "       [  61.04584426]])"
      ]
     },
     "execution_count": 6,
     "metadata": {},
     "output_type": "execute_result"
    }
   ],
   "source": [
    "trans"
   ]
  }
 ],
 "metadata": {
  "kernelspec": {
   "display_name": "Python 3",
   "language": "python",
   "name": "python3"
  },
  "language_info": {
   "codemirror_mode": {
    "name": "ipython",
    "version": 3
   },
   "file_extension": ".py",
   "mimetype": "text/x-python",
   "name": "python",
   "nbconvert_exporter": "python",
   "pygments_lexer": "ipython3",
   "version": "3.8.8"
  }
 },
 "nbformat": 4,
 "nbformat_minor": 5
}
